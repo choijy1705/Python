{
 "cells": [
  {
   "cell_type": "markdown",
   "metadata": {},
   "source": [
    " # 조건문"
   ]
  },
  {
   "cell_type": "code",
   "execution_count": null,
   "metadata": {},
   "outputs": [
    {
     "name": "stdout",
     "output_type": "stream",
     "text": [
      "수를 입력하세요 : \n"
     ]
    }
   ],
   "source": [
    "import sys\n",
    "\n",
    "print('수를 입력하세요 : ')\n",
    "\n",
    "num = int(input())\n",
    "# 파이썬은 조건문의 시작기호로 ':' 을 사용한다. 파이썬의 독특한 문법 구조 \n",
    "# 들여쓰기 한부분이 조건문의 범위라는 것을 표시 들여쓰기가 안되면 끝으로 인식하게 된다.\n",
    "\n",
    "if num == 0: \n",
    "    print('0은  나눗셈에 이용할 수 없습니다.') # 들여쓰기 자체가 문법\n",
    "    sys.exit(0) # 프로그램 종료 메서드\n",
    "    \n",
    "print('3 / ', num, '=', 3/num)"
   ]
  },
  {
   "cell_type": "code",
   "execution_count": 4,
   "metadata": {},
   "outputs": [
    {
     "name": "stdout",
     "output_type": "stream",
     "text": [
      "수를 입력하세요 : \n",
      "\n"
     ]
    },
    {
     "ename": "ValueError",
     "evalue": "invalid literal for int() with base 10: ''",
     "output_type": "error",
     "traceback": [
      "\u001b[1;31m---------------------------------------------------------------------------\u001b[0m",
      "\u001b[1;31mValueError\u001b[0m                                Traceback (most recent call last)",
      "\u001b[1;32m<ipython-input-4-98143e039b98>\u001b[0m in \u001b[0;36m<module>\u001b[1;34m\u001b[0m\n\u001b[0;32m      1\u001b[0m \u001b[0mprint\u001b[0m\u001b[1;33m(\u001b[0m\u001b[1;34m'수를 입력하세요 : '\u001b[0m\u001b[1;33m)\u001b[0m\u001b[1;33m\u001b[0m\u001b[1;33m\u001b[0m\u001b[0m\n\u001b[1;32m----> 2\u001b[1;33m \u001b[0mnum\u001b[0m \u001b[1;33m=\u001b[0m \u001b[0mint\u001b[0m\u001b[1;33m(\u001b[0m\u001b[0minput\u001b[0m\u001b[1;33m(\u001b[0m\u001b[1;33m)\u001b[0m\u001b[1;33m)\u001b[0m\u001b[1;33m\u001b[0m\u001b[1;33m\u001b[0m\u001b[0m\n\u001b[0m\u001b[0;32m      3\u001b[0m \u001b[1;33m\u001b[0m\u001b[0m\n\u001b[0;32m      4\u001b[0m \u001b[1;32mif\u001b[0m \u001b[0mnum\u001b[0m \u001b[1;33m==\u001b[0m \u001b[1;36m0\u001b[0m\u001b[1;33m:\u001b[0m\u001b[1;33m\u001b[0m\u001b[1;33m\u001b[0m\u001b[0m\n\u001b[0;32m      5\u001b[0m     \u001b[0mprint\u001b[0m\u001b[1;33m(\u001b[0m\u001b[1;34m'0은 나눗셈에 이용할 수 없습니다.'\u001b[0m\u001b[1;33m)\u001b[0m\u001b[1;33m\u001b[0m\u001b[1;33m\u001b[0m\u001b[0m\n",
      "\u001b[1;31mValueError\u001b[0m: invalid literal for int() with base 10: ''"
     ]
    }
   ],
   "source": [
    "print('수를 입력하세요 : ')\n",
    "num = int(input())\n",
    "\n",
    "if num == 0:\n",
    "    print('0은 나눗셈에 이용할 수 없습니다.')\n",
    "else:\n",
    "    print('3 /', num, '=', 3/num)\n",
    "    \n",
    "print('프로그램 종료')"
   ]
  },
  {
   "cell_type": "code",
   "execution_count": 5,
   "metadata": {},
   "outputs": [
    {
     "name": "stdout",
     "output_type": "stream",
     "text": [
      "요일(월~일)을 입력하세요 : \n",
      "\n",
      "잘못 입력된 요일입니다.\n"
     ]
    }
   ],
   "source": [
    "print('요일(월~일)을 입력하세요 : ')\n",
    "dow = input()\n",
    "\n",
    "if dow == '월':\n",
    "    print('Monday')\n",
    "elif dow == '화':\n",
    "    print('Tuesday')\n",
    "elif dow == '수' :\n",
    "    print('Wednesday')\n",
    "elif dow == '목' :\n",
    "    print(' Thursday')\n",
    "elif dow == '금':\n",
    "    print('Friday')\n",
    "elif dow == '토':\n",
    "    print('Saturday')\n",
    "elif dow == '일':\n",
    "    print('Sunday')\n",
    "else:\n",
    "    print('잘못 입력된 요일입니다.')"
   ]
  },
  {
   "cell_type": "code",
   "execution_count": 6,
   "metadata": {},
   "outputs": [
    {
     "name": "stdout",
     "output_type": "stream",
     "text": [
      "수를 입력하세요 : \n",
      "\n"
     ]
    },
    {
     "ename": "ValueError",
     "evalue": "invalid literal for int() with base 10: ''",
     "output_type": "error",
     "traceback": [
      "\u001b[1;31m---------------------------------------------------------------------------\u001b[0m",
      "\u001b[1;31mValueError\u001b[0m                                Traceback (most recent call last)",
      "\u001b[1;32m<ipython-input-6-8859dd1afa38>\u001b[0m in \u001b[0;36m<module>\u001b[1;34m\u001b[0m\n\u001b[0;32m      1\u001b[0m \u001b[0mprint\u001b[0m\u001b[1;33m(\u001b[0m\u001b[1;34m'수를 입력하세요 : '\u001b[0m\u001b[1;33m)\u001b[0m\u001b[1;33m\u001b[0m\u001b[1;33m\u001b[0m\u001b[0m\n\u001b[1;32m----> 2\u001b[1;33m \u001b[0mnum\u001b[0m \u001b[1;33m=\u001b[0m \u001b[0mint\u001b[0m\u001b[1;33m(\u001b[0m\u001b[0minput\u001b[0m\u001b[1;33m(\u001b[0m\u001b[1;33m)\u001b[0m\u001b[1;33m)\u001b[0m\u001b[1;33m\u001b[0m\u001b[1;33m\u001b[0m\u001b[0m\n\u001b[0m\u001b[0;32m      3\u001b[0m \u001b[1;33m\u001b[0m\u001b[0m\n\u001b[0;32m      4\u001b[0m \u001b[1;32mif\u001b[0m \u001b[0mnum\u001b[0m \u001b[1;33m>\u001b[0m \u001b[1;36m10\u001b[0m\u001b[1;33m:\u001b[0m\u001b[1;33m\u001b[0m\u001b[1;33m\u001b[0m\u001b[0m\n\u001b[0;32m      5\u001b[0m     \u001b[1;32mif\u001b[0m \u001b[0mnum\u001b[0m \u001b[1;33m%\u001b[0m \u001b[1;36m2\u001b[0m \u001b[1;33m==\u001b[0m \u001b[1;36m0\u001b[0m\u001b[1;33m:\u001b[0m\u001b[1;33m\u001b[0m\u001b[1;33m\u001b[0m\u001b[0m\n",
      "\u001b[1;31mValueError\u001b[0m: invalid literal for int() with base 10: ''"
     ]
    }
   ],
   "source": [
    "print('수를 입력하세요 : ')\n",
    "num = int(input())\n",
    "\n",
    "if num > 10:\n",
    "    if num % 2 == 0:\n",
    "        print('10보다 큰 짝수')\n",
    "    else:\n",
    "        print('10보다 큰 홀수')\n",
    "else:\n",
    "    if num % 2 == 0:\n",
    "        print('10보다 작은 짝수')\n",
    "    else:\n",
    "        print('10보다 작은 홀수')\n",
    "        "
   ]
  },
  {
   "cell_type": "code",
   "execution_count": 3,
   "metadata": {},
   "outputs": [
    {
     "name": "stdout",
     "output_type": "stream",
     "text": [
      "수를 입력하세요:\n",
      "50\n",
      "10보다 큰 짝수\n"
     ]
    }
   ],
   "source": [
    "print('수를 입력하세요:')\n",
    "num=int(input())\n",
    "\n",
    "if num>10 and num%2 ==0:\n",
    "    print('10보다 큰 짝수')\n",
    "elif num > 10 and num % 2 !=0:\n",
    "    print('10보다 큰 홀수')\n",
    "elif num <=10 and num%2 == 0:\n",
    "    print('10이하의 짝수')\n",
    "elif num <=10 and num%2 !=0:\n",
    "    print('10이하의 홀수')"
   ]
  },
  {
   "cell_type": "markdown",
   "metadata": {},
   "source": [
    "# 반복문"
   ]
  },
  {
   "cell_type": "code",
   "execution_count": 5,
   "metadata": {},
   "outputs": [
    {
     "name": "stdout",
     "output_type": "stream",
     "text": [
      "몇 번 반복할까요?\n",
      "2\n",
      "1회 반복\n",
      "2회 반복\n",
      "반복이 종료.\n"
     ]
    }
   ],
   "source": [
    "print('몇 번 반복할까요?')\n",
    "\n",
    "limit = int(input())\n",
    "\n",
    "count = 0\n",
    "\n",
    "while count < limit:\n",
    "    count = count + 1\n",
    "    print('{0}회 반복'.format(count))  # format 은 java의 printf와 유사한 동작을 한다.\n",
    "\n",
    "print('반복이 종료.')"
   ]
  },
  {
   "cell_type": "code",
   "execution_count": 8,
   "metadata": {},
   "outputs": [
    {
     "name": "stdout",
     "output_type": "stream",
     "text": [
      "반복을 계속할까요? [예/아니오] :\n",
      "아니오\n",
      "반복 종료\n"
     ]
    }
   ],
   "source": [
    "while True:\n",
    "    print('반복을 계속할까요? [예/아니오] :' )\n",
    "    answer = input()\n",
    "    \n",
    "    if answer == '예' :\n",
    "        print('반복을 계속합니다.')\n",
    "    elif answer == '아니오':\n",
    "        break\n",
    "    else:\n",
    "        print('정상적인 답변이 아닙니다.')\n",
    "        \n",
    "print('반복 종료') \n",
    "        "
   ]
  },
  {
   "cell_type": "code",
   "execution_count": 10,
   "metadata": {},
   "outputs": [
    {
     "name": "stdout",
     "output_type": "stream",
     "text": [
      "10\n",
      "20\n",
      "30\n"
     ]
    }
   ],
   "source": [
    "for i in (10,20,30):\n",
    "    print(i)"
   ]
  },
  {
   "cell_type": "code",
   "execution_count": 12,
   "metadata": {},
   "outputs": [
    {
     "name": "stdout",
     "output_type": "stream",
     "text": [
      "더조은\n",
      "컴퓨터\n",
      "아카데미\n"
     ]
    }
   ],
   "source": [
    "for s in ['더조은','컴퓨터','아카데미']:\n",
    "    print(s)"
   ]
  },
  {
   "cell_type": "code",
   "execution_count": 14,
   "metadata": {},
   "outputs": [
    {
     "name": "stdout",
     "output_type": "stream",
     "text": [
      "더\n",
      "조\n",
      "은\n",
      " \n",
      "컴\n",
      "퓨\n",
      "터\n",
      " \n",
      "아\n",
      "카\n",
      "데\n",
      "미\n"
     ]
    }
   ],
   "source": [
    "for s in '더조은 컴퓨터 아카데미' :\n",
    "    print(s)"
   ]
  },
  {
   "cell_type": "code",
   "execution_count": 16,
   "metadata": {},
   "outputs": [
    {
     "name": "stdout",
     "output_type": "stream",
     "text": [
      "0\n",
      "1\n",
      "2\n",
      "3\n",
      "4\n"
     ]
    }
   ],
   "source": [
    "for i in range(0,5,1):\n",
    "    print(i)"
   ]
  },
  {
   "cell_type": "code",
   "execution_count": 18,
   "metadata": {},
   "outputs": [
    {
     "name": "stdout",
     "output_type": "stream",
     "text": [
      "0\n",
      "2\n",
      "4\n",
      "6\n",
      "8\n"
     ]
    }
   ],
   "source": [
    "for i in range(0,10,2): \n",
    "    print(i)"
   ]
  },
  {
   "cell_type": "code",
   "execution_count": 20,
   "metadata": {},
   "outputs": [
    {
     "name": "stdout",
     "output_type": "stream",
     "text": [
      "0\n",
      "1\n",
      "2\n",
      "3\n",
      "4\n"
     ]
    }
   ],
   "source": [
    "for i in range(0,5):\n",
    "    print(i)"
   ]
  },
  {
   "cell_type": "code",
   "execution_count": 22,
   "metadata": {},
   "outputs": [
    {
     "name": "stdout",
     "output_type": "stream",
     "text": [
      "0\n",
      "1\n",
      "2\n",
      "3\n",
      "4\n"
     ]
    }
   ],
   "source": [
    "for i in range(5): # range(0,5) 와 동일한 코드\n",
    "    print(i)"
   ]
  },
  {
   "cell_type": "code",
   "execution_count": 24,
   "metadata": {},
   "outputs": [
    {
     "ename": "TypeError",
     "evalue": "'int' object is not iterable",
     "output_type": "error",
     "traceback": [
      "\u001b[1;31m---------------------------------------------------------------------------\u001b[0m",
      "\u001b[1;31mTypeError\u001b[0m                                 Traceback (most recent call last)",
      "\u001b[1;32m<ipython-input-24-b69bab19762a>\u001b[0m in \u001b[0;36m<module>\u001b[1;34m\u001b[0m\n\u001b[1;32m----> 1\u001b[1;33m \u001b[1;32mfor\u001b[0m \u001b[0mi\u001b[0m \u001b[1;32min\u001b[0m \u001b[1;36m5\u001b[0m\u001b[1;33m:\u001b[0m \u001b[1;31m# error 발생. 숫자의 값만으로  in뒤에 올수가 없다\u001b[0m\u001b[1;33m\u001b[0m\u001b[1;33m\u001b[0m\u001b[0m\n\u001b[0m\u001b[0;32m      2\u001b[0m     \u001b[0mprint\u001b[0m\u001b[1;33m(\u001b[0m\u001b[0mi\u001b[0m\u001b[1;33m)\u001b[0m\u001b[1;33m\u001b[0m\u001b[1;33m\u001b[0m\u001b[0m\n",
      "\u001b[1;31mTypeError\u001b[0m: 'int' object is not iterable"
     ]
    }
   ],
   "source": [
    "for i in 5: # error 발생. 숫자의 값만으로  in뒤에 올수가 없다\n",
    "    print(i)"
   ]
  },
  {
   "cell_type": "code",
   "execution_count": 27,
   "metadata": {},
   "outputs": [
    {
     "name": "stdout",
     "output_type": "stream",
     "text": [
      "*\n",
      "**\n",
      "***\n",
      "****\n",
      "*****\n"
     ]
    }
   ],
   "source": [
    "for i in range(1,6): # 1, 2, 3, 4, 5\n",
    "    for j in range(i):\n",
    "        print(\"*\", end = \"\") # system.out.print 처럼 동작, 줄바꿈이 발생하지 않는다.\n",
    "        \n",
    "    print()  "
   ]
  },
  {
   "cell_type": "code",
   "execution_count": 29,
   "metadata": {},
   "outputs": [
    {
     "name": "stdout",
     "output_type": "stream",
     "text": [
      "애플:www.apple.com\n",
      "파이썬:www.python.org\n",
      "네이버:www.naver.com\n"
     ]
    }
   ],
   "source": [
    "dic={'애플': 'www.apple.com', '파이썬':'www.python.org','네이버':'www.naver.com'}\n",
    "\n",
    "for k, v in dic.items(): # items는 key값과 values값으로 두개 가져준다 key 는 k에 values는 v에 담아준다. unpacking\n",
    "    print(\"{0}:{1}\".format(k,v))"
   ]
  },
  {
   "cell_type": "code",
   "execution_count": 36,
   "metadata": {},
   "outputs": [
    {
     "name": "stdout",
     "output_type": "stream",
     "text": [
      "0\n",
      "2\n",
      "4\n",
      "6\n",
      "8\n"
     ]
    }
   ],
   "source": [
    "for i in range(10):\n",
    "    if i % 2 == 1:\n",
    "        continue   # continue를 만나면 다음에 어떠한 문장이 있던 다시 반복문 처음으로 가서 동작한다.\n",
    "    \n",
    "    print(i)"
   ]
  },
  {
   "cell_type": "code",
   "execution_count": 34,
   "metadata": {},
   "outputs": [
    {
     "name": "stdout",
     "output_type": "stream",
     "text": [
      "1\n",
      "2\n",
      "3\n",
      "4\n",
      "5\n",
      "6\n",
      "7\n",
      "8\n",
      "9\n",
      "10\n",
      "11\n",
      "12\n",
      "13\n",
      "14\n",
      "15\n",
      "16\n",
      "17\n",
      "18\n",
      "19\n",
      "20\n",
      "21\n",
      "22\n",
      "23\n",
      "24\n",
      "25\n",
      "26\n",
      "27\n",
      "28\n",
      "29\n",
      "30\n",
      "31\n",
      "32\n",
      "33\n",
      "34\n",
      "35\n",
      "36\n",
      "37\n",
      "38\n",
      "39\n",
      "40\n",
      "41\n",
      "42\n",
      "43\n",
      "44\n",
      "45\n",
      "46\n",
      "47\n",
      "48\n",
      "49\n",
      "50\n",
      "51\n",
      "52\n",
      "53\n",
      "54\n",
      "55\n",
      "56\n",
      "57\n",
      "58\n",
      "59\n",
      "60\n",
      "61\n",
      "62\n",
      "63\n",
      "64\n",
      "65\n",
      "66\n",
      "67\n",
      "68\n",
      "69\n",
      "70\n",
      "71\n",
      "72\n",
      "73\n",
      "74\n",
      "75\n",
      "76\n",
      "77\n",
      "78\n",
      "79\n",
      "80\n",
      "81\n",
      "82\n",
      "83\n",
      "84\n",
      "85\n",
      "86\n",
      "87\n",
      "88\n",
      "89\n",
      "90\n",
      "91\n",
      "92\n",
      "93\n",
      "94\n",
      "95\n",
      "96\n",
      "97\n",
      "98\n",
      "99\n",
      "i가 100이 됐습니다. 반복문을 중단합니다.\n"
     ]
    }
   ],
   "source": [
    "# break\n",
    "i = 0\n",
    "\n",
    "while True:  # 무한 반복이지만 조건을 통하여 반복을 나온다.\n",
    "    i = i + 1 \n",
    "    if i == 100:\n",
    "        print('i가 {0}이 됐습니다. 반복문을 중단합니다.'.format(i))\n",
    "        break # break를 통하여 무한반복을 빠져나올 수 있다.\n",
    "    print(i)    "
   ]
  }
 ],
 "metadata": {
  "kernelspec": {
   "display_name": "Python 3",
   "language": "python",
   "name": "python3"
  },
  "language_info": {
   "codemirror_mode": {
    "name": "ipython",
    "version": 3
   },
   "file_extension": ".py",
   "mimetype": "text/x-python",
   "name": "python",
   "nbconvert_exporter": "python",
   "pygments_lexer": "ipython3",
   "version": "3.7.6"
  }
 },
 "nbformat": 4,
 "nbformat_minor": 4
}
