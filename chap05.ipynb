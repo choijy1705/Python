{
 "cells": [
  {
   "cell_type": "markdown",
   "metadata": {},
   "source": [
    "# 함수"
   ]
  },
  {
   "cell_type": "code",
   "execution_count": 2,
   "metadata": {},
   "outputs": [
    {
     "name": "stdout",
     "output_type": "stream",
     "text": [
      "Hello Python!!!\n"
     ]
    }
   ],
   "source": [
    "# 정의\n",
    "\n",
    "def hello():\n",
    "    print(\"Hello Python!!!\")\n",
    "    \n",
    "hello()  # 호출 방법"
   ]
  },
  {
   "cell_type": "code",
   "execution_count": 7,
   "metadata": {},
   "outputs": [
    {
     "name": "stdout",
     "output_type": "stream",
     "text": [
      "10\n",
      "<function my_abs at 0x00000264DC302DC8>\n"
     ]
    }
   ],
   "source": [
    "# 호출과 반환\n",
    "def my_abs(arg):\n",
    "    if(arg <0):\n",
    "        result = arg*-1\n",
    "    else:\n",
    "        result = arg\n",
    "        \n",
    "    return result\n",
    "\n",
    "# my_abs() # error 발생  \n",
    "# java script는 함수를 생성하면 argument가 자동으로 생성되어 지므로 값이 초기화 되어 있지 않더라도 error 발생하지않는다.\n",
    "\n",
    "print(my_abs(-10))\n",
    "print(my_abs) # 할당된 주소값 반환\n"
   ]
  },
  {
   "cell_type": "code",
   "execution_count": 9,
   "metadata": {},
   "outputs": [
    {
     "name": "stdout",
     "output_type": "stream",
     "text": [
      "안녕하세요.\n",
      "안녕하세요.\n",
      "안녕하세요.\n"
     ]
    }
   ],
   "source": [
    "# 인자(argument) 이름의 올바른 예\n",
    "\n",
    "def print_string1(text, count): # argument 를 매개변수로 혼용하여 부르고 있지만 인자는 메서드, 함수 안에 들어가는 인자를 argument라 한다.\n",
    "    for i in range(count):\n",
    "        print(text)\n",
    "\n",
    "print_string1('안녕하세요.',3)"
   ]
  },
  {
   "cell_type": "code",
   "execution_count": 11,
   "metadata": {},
   "outputs": [
    {
     "name": "stdout",
     "output_type": "stream",
     "text": [
      "안녕하세요\n"
     ]
    }
   ],
   "source": [
    "# 기본값 인자(Default Argument Value)\n",
    "def print_string2(text,count=1): # 매개변수를 선언하면서 초기값을 설정해준다.\n",
    "    for i in range(count):\n",
    "        print(text)\n",
    "        \n",
    "print_string2('안녕하세요')"
   ]
  },
  {
   "cell_type": "markdown",
   "metadata": {},
   "source": [
    "## 키워드 인자(Keyword Argument)\n",
    "### 호출자가 매개변수의 이름을 일일이 지정해 데이터를 입력하는 것\n"
   ]
  },
  {
   "cell_type": "code",
   "execution_count": 14,
   "metadata": {},
   "outputs": [
    {
     "name": "stdout",
     "output_type": "stream",
     "text": [
      "name = 홍길동\n",
      "postion=student\n",
      "nationality=American\n",
      "name = 홍길동\n",
      "postion=student\n",
      "nationality=korea\n"
     ]
    },
    {
     "ename": "NameError",
     "evalue": "name 'persennel' is not defined",
     "output_type": "error",
     "traceback": [
      "\u001b[1;31m---------------------------------------------------------------------------\u001b[0m",
      "\u001b[1;31mNameError\u001b[0m                                 Traceback (most recent call last)",
      "\u001b[1;32m<ipython-input-14-9d17019acc36>\u001b[0m in \u001b[0;36m<module>\u001b[1;34m\u001b[0m\n\u001b[0;32m      8\u001b[0m \u001b[0mprint_personnel\u001b[0m\u001b[1;33m(\u001b[0m\u001b[1;34m'홍길동'\u001b[0m\u001b[1;33m,\u001b[0m \u001b[1;34m'student'\u001b[0m\u001b[1;33m,\u001b[0m\u001b[1;34m'American'\u001b[0m\u001b[1;33m)\u001b[0m    \u001b[1;31m# 매개변수가 초기화 되어 있으면 굳이 데이터를 전달 할 필요가 없다.\u001b[0m\u001b[1;33m\u001b[0m\u001b[1;33m\u001b[0m\u001b[0m\n\u001b[0;32m      9\u001b[0m \u001b[0mprint_personnel\u001b[0m\u001b[1;33m(\u001b[0m\u001b[1;34m'홍길동'\u001b[0m\u001b[1;33m,\u001b[0m\u001b[1;34m'student'\u001b[0m\u001b[1;33m)\u001b[0m\u001b[1;33m\u001b[0m\u001b[1;33m\u001b[0m\u001b[0m\n\u001b[1;32m---> 10\u001b[1;33m \u001b[0mprint\u001b[0m\u001b[1;33m+\u001b[0m\u001b[0mpersennel\u001b[0m\u001b[1;33m(\u001b[0m\u001b[1;34m'홍길동'\u001b[0m\u001b[1;33m)\u001b[0m\u001b[1;33m\u001b[0m\u001b[1;33m\u001b[0m\u001b[0m\n\u001b[0m\u001b[0;32m     11\u001b[0m \u001b[1;33m\u001b[0m\u001b[0m\n\u001b[0;32m     12\u001b[0m \u001b[0mprint_personnel\u001b[0m\u001b[1;33m(\u001b[0m\u001b[0mname\u001b[0m\u001b[1;33m=\u001b[0m\u001b[1;34m'강감찬'\u001b[0m\u001b[1;33m)\u001b[0m\u001b[1;33m\u001b[0m\u001b[1;33m\u001b[0m\u001b[0m\n",
      "\u001b[1;31mNameError\u001b[0m: name 'persennel' is not defined"
     ]
    }
   ],
   "source": [
    "\n",
    "\n",
    "def print_personnel(name, position='staff', nationality='korea'):\n",
    "    print('name = {0}'.format(name))\n",
    "    print('postion={0}'.format(position))\n",
    "    print('nationality={0}'.format(nationality))\n",
    "\n",
    "print_personnel('홍길동', 'student','American')    # 매개변수가 초기화 되어 있으면 굳이 데이터를 전달 할 필요가 없다.\n",
    "print_personnel('홍길동','student')\n",
    "print+persennel('홍길동')\n",
    "\n",
    "print_personnel(name='강감찬')\n",
    "print_personnel(nationality ='Japan') # error\n",
    "    "
   ]
  },
  {
   "cell_type": "code",
   "execution_count": 15,
   "metadata": {},
   "outputs": [
    {
     "name": "stdout",
     "output_type": "stream",
     "text": [
      "name = 김구라\n",
      "postion=business\n",
      "nationality=Seoul\n"
     ]
    }
   ],
   "source": [
    "print_personnel(position='business',name=\"김구라\", nationality=\"Seoul\")"
   ]
  },
  {
   "cell_type": "markdown",
   "metadata": {},
   "source": [
    "## - 가변 매개 변수(Arbutrary Argument List)"
   ]
  },
  {
   "cell_type": "code",
   "execution_count": 18,
   "metadata": {},
   "outputs": [
    {
     "name": "stdout",
     "output_type": "stream",
     "text": [
      "<class 'tuple'>\n",
      "아버자가 방에 들어가신다.\n"
     ]
    }
   ],
   "source": [
    "def merge_string(*text_list): # * 가변 매개변수로 정의하고 있다는 뜻\n",
    "    print(type(text_list)) # <class 'tuple'>    \n",
    "    result = '' # R과 파이썬에서는 자료형을 문자열로 선언한다는 뜻으로 쓰인다.\n",
    "    for s in text_list:\n",
    "        result += s\n",
    "        \n",
    "    return result\n",
    "\n",
    "print(merge_string('아버자가 ', '방에 ', '들어가신다.'))\n",
    "# 하나의 변수이름으로 여러개의 데이터를 전달 받아 쓸수 있는 tuple 자료형으로 전달받는다.\n",
    "# 데이터의 손상이 일어나면 안되기 때문에 tuple이라는 자료형을 선언해준다."
   ]
  },
  {
   "cell_type": "code",
   "execution_count": 21,
   "metadata": {},
   "outputs": [
    {
     "name": "stdout",
     "output_type": "stream",
     "text": [
      "<class 'dict'>\n",
      "안정환 = 축구\n",
      "류현진 = 야구\n",
      "서장훈 = 농구\n"
     ]
    }
   ],
   "source": [
    "def print_team(**players):\n",
    "    print(type(players))  # <class 'dict'>\n",
    "    \n",
    "    for k in players.keys():\n",
    "        print('{0} = {1}'.format(k, players[k]))\n",
    "    \n",
    "print_team(안정환='축구', 류현진='야구', 서장훈='농구')"
   ]
  },
  {
   "cell_type": "code",
   "execution_count": 24,
   "metadata": {},
   "outputs": [
    {
     "name": "stdout",
     "output_type": "stream",
     "text": [
      "홍길동\n",
      "이순신\n",
      "강감찬\n"
     ]
    }
   ],
   "source": [
    "def print_args1(argc, *argv):\n",
    "    for i in range(argc):\n",
    "        print(argv[i])\n",
    "        \n",
    "print_args1(3, '홍길동', '이순신','강감찬')  "
   ]
  },
  {
   "cell_type": "code",
   "execution_count": 26,
   "metadata": {},
   "outputs": [
    {
     "ename": "SyntaxError",
     "evalue": "positional argument follows keyword argument (<ipython-input-26-fa7fce0c6b49>, line 1)",
     "output_type": "error",
     "traceback": [
      "\u001b[1;36m  File \u001b[1;32m\"<ipython-input-26-fa7fce0c6b49>\"\u001b[1;36m, line \u001b[1;32m1\u001b[0m\n\u001b[1;33m    print_args1(argc = 3, '홍길동', '이순신','강감찬')\u001b[0m\n\u001b[1;37m                         ^\u001b[0m\n\u001b[1;31mSyntaxError\u001b[0m\u001b[1;31m:\u001b[0m positional argument follows keyword argument\n"
     ]
    }
   ],
   "source": [
    "print_args1(argc = 3, '홍길동', '이순신','강감찬')\n",
    "# error 발생, 일반변수와 가변매개변수가 정의 되어 있을때 호출시에는 parameter 이름으로 호출할수 없다."
   ]
  },
  {
   "cell_type": "code",
   "execution_count": 28,
   "metadata": {},
   "outputs": [
    {
     "ename": "TypeError",
     "evalue": "print_args1() got multiple values for argument 'argc'",
     "output_type": "error",
     "traceback": [
      "\u001b[1;31m---------------------------------------------------------------------------\u001b[0m",
      "\u001b[1;31mTypeError\u001b[0m                                 Traceback (most recent call last)",
      "\u001b[1;32m<ipython-input-28-bf06aa089cfd>\u001b[0m in \u001b[0;36m<module>\u001b[1;34m\u001b[0m\n\u001b[1;32m----> 1\u001b[1;33m \u001b[0mprint_args1\u001b[0m\u001b[1;33m(\u001b[0m\u001b[1;34m'홍길동'\u001b[0m\u001b[1;33m,\u001b[0m\u001b[1;34m'이순신'\u001b[0m\u001b[1;33m,\u001b[0m\u001b[1;34m'강감찬'\u001b[0m\u001b[1;33m,\u001b[0m \u001b[0margc\u001b[0m \u001b[1;33m=\u001b[0m \u001b[1;36m3\u001b[0m\u001b[1;33m)\u001b[0m\u001b[1;33m\u001b[0m\u001b[1;33m\u001b[0m\u001b[0m\n\u001b[0m\u001b[0;32m      2\u001b[0m \u001b[1;31m# error 발생, 위와 같은 이유로 '홍길동'이 argc에 인식되므로 , 이 이유 때문에 위 과정도 error가 발생한다.\u001b[0m\u001b[1;33m\u001b[0m\u001b[1;33m\u001b[0m\u001b[1;33m\u001b[0m\u001b[0m\n",
      "\u001b[1;31mTypeError\u001b[0m: print_args1() got multiple values for argument 'argc'"
     ]
    }
   ],
   "source": [
    "print_args1('홍길동','이순신','강감찬', argc = 3) \n",
    "# error 발생, 위와 같은 이유로 '홍길동'이 argc에 인식되므로 , 이 이유 때문에 위 과정도 error가 발생한다."
   ]
  },
  {
   "cell_type": "code",
   "execution_count": 32,
   "metadata": {},
   "outputs": [
    {
     "ename": "TypeError",
     "evalue": "print_args2() missing 1 required keyword-only argument: 'argc'",
     "output_type": "error",
     "traceback": [
      "\u001b[1;31m---------------------------------------------------------------------------\u001b[0m",
      "\u001b[1;31mTypeError\u001b[0m                                 Traceback (most recent call last)",
      "\u001b[1;32m<ipython-input-32-999bb2fc05dd>\u001b[0m in \u001b[0;36m<module>\u001b[1;34m\u001b[0m\n\u001b[0;32m      4\u001b[0m         \u001b[0mprint\u001b[0m\u001b[1;33m(\u001b[0m\u001b[0margv\u001b[0m\u001b[1;33m[\u001b[0m\u001b[0mi\u001b[0m\u001b[1;33m]\u001b[0m\u001b[1;33m)\u001b[0m\u001b[1;33m\u001b[0m\u001b[1;33m\u001b[0m\u001b[0m\n\u001b[0;32m      5\u001b[0m \u001b[1;33m\u001b[0m\u001b[0m\n\u001b[1;32m----> 6\u001b[1;33m \u001b[0mprint_args2\u001b[0m\u001b[1;33m(\u001b[0m\u001b[1;34m'홍길동'\u001b[0m\u001b[1;33m,\u001b[0m \u001b[1;34m'이순신'\u001b[0m\u001b[1;33m,\u001b[0m\u001b[1;34m'강감찬'\u001b[0m\u001b[1;33m,\u001b[0m\u001b[1;36m3\u001b[0m\u001b[1;33m)\u001b[0m\u001b[1;33m\u001b[0m\u001b[1;33m\u001b[0m\u001b[0m\n\u001b[0m\u001b[0;32m      7\u001b[0m \u001b[1;31m# 가변매개변수가 몇개의 데이터인지 알 수 없기 때문에 이렇게 전달을 받으면 3도 가변매개변수로 인식한다.\u001b[0m\u001b[1;33m\u001b[0m\u001b[1;33m\u001b[0m\u001b[1;33m\u001b[0m\u001b[0m\n",
      "\u001b[1;31mTypeError\u001b[0m: print_args2() missing 1 required keyword-only argument: 'argc'"
     ]
    }
   ],
   "source": [
    "# 주의\n",
    "def print_args2(*argv, argc):\n",
    "    for i in range(argc):\n",
    "        print(argv[i])\n",
    "        \n",
    "print_args2('홍길동', '이순신','강감찬',3)\n",
    "# 가변매개변수가 몇개의 데이터인지 알 수 없기 때문에 이렇게 전달을 받으면 3도 가변매개변수로 인식한다."
   ]
  },
  {
   "cell_type": "code",
   "execution_count": 34,
   "metadata": {},
   "outputs": [
    {
     "name": "stdout",
     "output_type": "stream",
     "text": [
      "홍길동\n",
      "이순신\n",
      "강감찬\n"
     ]
    }
   ],
   "source": [
    "print_args2('홍길동','이순신','강감찬', argc=3)"
   ]
  },
  {
   "cell_type": "code",
   "execution_count": 36,
   "metadata": {},
   "outputs": [
    {
     "name": "stdout",
     "output_type": "stream",
     "text": [
      "15\n"
     ]
    }
   ],
   "source": [
    "# 호출자에게 반환하기\n",
    "\n",
    "def multiply(a,b):\n",
    "    return a*b      # 1. 함수 즉시 종료 / 2. 호출자에게 결과 전달\n",
    "\n",
    "result = multiply(3,5)\n",
    "print(result)"
   ]
  },
  {
   "cell_type": "code",
   "execution_count": 38,
   "metadata": {},
   "outputs": [
    {
     "name": "stdout",
     "output_type": "stream",
     "text": [
      "50\n"
     ]
    }
   ],
   "source": [
    "# 한 함수 안에 여러 개의 return 배치 가능\n",
    "\n",
    "def my_abs1(arg):\n",
    "    if(arg <0):\n",
    "        return arg * -1\n",
    "    else:\n",
    "        return arg\n",
    "    \n",
    "result = my_abs1(-50)\n",
    "print(result)"
   ]
  },
  {
   "cell_type": "code",
   "execution_count": 42,
   "metadata": {},
   "outputs": [
    {
     "name": "stdout",
     "output_type": "stream",
     "text": [
      "None\n",
      "<class 'NoneType'>\n"
     ]
    }
   ],
   "source": [
    "# 주의\n",
    "\n",
    "def my_abs2(arg):\n",
    "    if(arg <0):\n",
    "        return arg * -1\n",
    "    elif(arg >0):\n",
    "        return arg\n",
    "    \n",
    "result = my_abs2(0)\n",
    "print(result)\n",
    "print(type(result))"
   ]
  },
  {
   "cell_type": "code",
   "execution_count": 45,
   "metadata": {},
   "outputs": [
    {
     "name": "stdout",
     "output_type": "stream",
     "text": [
      "제 1의 아해\n",
      "제 2의 아해\n",
      "제 3의 아해\n"
     ]
    }
   ],
   "source": [
    "def ogamdo(num):\n",
    "    for i in range(1, num+1):\n",
    "        print('제 {0}의 아해'.format(i))\n",
    "        if i == 5:\n",
    "            return\n",
    "\n",
    "ogamdo(3)"
   ]
  },
  {
   "cell_type": "code",
   "execution_count": 47,
   "metadata": {},
   "outputs": [
    {
     "name": "stdout",
     "output_type": "stream",
     "text": [
      "제 1의 아해\n",
      "제 2의 아해\n",
      "제 3의 아해\n",
      "제 4의 아해\n",
      "제 5의 아해\n"
     ]
    }
   ],
   "source": [
    "ogamdo(5)"
   ]
  },
  {
   "cell_type": "code",
   "execution_count": 48,
   "metadata": {},
   "outputs": [
    {
     "name": "stdout",
     "output_type": "stream",
     "text": [
      "1\n",
      "2\n",
      "3\n",
      "4\n",
      "5\n"
     ]
    }
   ],
   "source": [
    "def print_something(*args) :          # 3. 반환 결과 없고, 함수 중간에 종료 시킬 일도 없다.\n",
    "    for s in args:                    # return 문 생략 가능.\n",
    "        print(s)\n",
    "        \n",
    "print_something(1,2,3,4,5)  # 중간에 멈출 일이 없기때문에 return문이 없어도 수행이 끝나면 자동으로 복귀해서 온다."
   ]
  }
 ],
 "metadata": {
  "kernelspec": {
   "display_name": "Python 3",
   "language": "python",
   "name": "python3"
  },
  "language_info": {
   "codemirror_mode": {
    "name": "ipython",
    "version": 3
   },
   "file_extension": ".py",
   "mimetype": "text/x-python",
   "name": "python",
   "nbconvert_exporter": "python",
   "pygments_lexer": "ipython3",
   "version": "3.7.6"
  }
 },
 "nbformat": 4,
 "nbformat_minor": 4
}
